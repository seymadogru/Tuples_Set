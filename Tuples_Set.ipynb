{
 "cells": [
  {
   "cell_type": "markdown",
   "id": "7f25ddb0",
   "metadata": {},
   "source": [
    "hafta adında hafta içi günlerini içeren bir tuple oluşturun."
   ]
  },
  {
   "cell_type": "code",
   "execution_count": 1,
   "id": "11062b67",
   "metadata": {},
   "outputs": [
    {
     "name": "stdout",
     "output_type": "stream",
     "text": [
      "<class 'tuple'>\n",
      "('Monday', 'Sunday', 'Wednesday', 'Thursday', 'Friday', 'Saturday', 'Sunday')\n"
     ]
    }
   ],
   "source": [
    "hafta = ('Monday', 'Sunday', 'Wednesday', 'Thursday', 'Friday', 'Saturday', 'Sunday')\n",
    "print(type(hafta))\n",
    "print(hafta)"
   ]
  },
  {
   "cell_type": "markdown",
   "id": "4fe48553",
   "metadata": {},
   "source": [
    "fruits adında \"elma\", \"mango\" ve \"portakal\" meyvelerini içeren bir küme oluşturun."
   ]
  },
  {
   "cell_type": "code",
   "execution_count": 2,
   "id": "87423367",
   "metadata": {},
   "outputs": [
    {
     "name": "stdout",
     "output_type": "stream",
     "text": [
      "<class 'set'>\n",
      "{'mango', 'portakal', 'elma'}\n"
     ]
    }
   ],
   "source": [
    "fruits = {'mango', 'elma', 'portakal'}\n",
    "print(type(fruits))\n",
    "print(fruits)"
   ]
  },
  {
   "cell_type": "markdown",
   "id": "9797a3e1",
   "metadata": {},
   "source": [
    "new_fruits adında \"kiraz\", \"şeftali\", \"elma\" ve \"mango\" meyvelerini içeren ikinci bir küme oluşturun."
   ]
  },
  {
   "cell_type": "code",
   "execution_count": 3,
   "id": "cb967e85",
   "metadata": {},
   "outputs": [
    {
     "name": "stdout",
     "output_type": "stream",
     "text": [
      "<class 'set'>\n",
      "{'mango', 'kiraz', 'şeftali', 'elma'}\n"
     ]
    }
   ],
   "source": [
    "new_fruits = {'mango', 'elma', 'kiraz', 'şeftali'}\n",
    "print(type(new_fruits))\n",
    "print(new_fruits)"
   ]
  },
  {
   "cell_type": "markdown",
   "id": "80e6c52f",
   "metadata": {},
   "source": [
    "new_fruitsda olan meyvelerde olmayan meyveleri bulun."
   ]
  },
  {
   "cell_type": "code",
   "execution_count": 4,
   "id": "4322767e",
   "metadata": {},
   "outputs": [
    {
     "name": "stdout",
     "output_type": "stream",
     "text": [
      "Sadece new_fruits'de olanlar  {'şeftali', 'kiraz'}\n"
     ]
    }
   ],
   "source": [
    "fruits = {'mango', 'elma', 'portakal'}\n",
    "new_fruits = {'mango', 'elma', 'kiraz', 'şeftali'}\n",
    "print(\"Sadece new_fruits'de olanlar \",new_fruits.difference(fruits) )"
   ]
  },
  {
   "cell_type": "markdown",
   "id": "963b8d4c",
   "metadata": {},
   "source": [
    "Her ikisinde de olan meyveleri bulun."
   ]
  },
  {
   "cell_type": "code",
   "execution_count": 5,
   "id": "01ca0e95",
   "metadata": {},
   "outputs": [
    {
     "name": "stdout",
     "output_type": "stream",
     "text": [
      "Her ikisinde olan meyveler :  {'mango', 'elma'}\n"
     ]
    }
   ],
   "source": [
    "fruits = {'mango', 'elma', 'portakal'}\n",
    "new_fruits = {'mango', 'elma', 'kiraz', 'şeftali'}\n",
    "print(\"Her ikisinde olan meyveler : \",new_fruits.intersection(fruits) )"
   ]
  },
  {
   "cell_type": "code",
   "execution_count": null,
   "id": "7ef33025",
   "metadata": {},
   "outputs": [],
   "source": []
  }
 ],
 "metadata": {
  "kernelspec": {
   "display_name": "Python 3",
   "language": "python",
   "name": "python3"
  },
  "language_info": {
   "codemirror_mode": {
    "name": "ipython",
    "version": 3
   },
   "file_extension": ".py",
   "mimetype": "text/x-python",
   "name": "python",
   "nbconvert_exporter": "python",
   "pygments_lexer": "ipython3",
   "version": "3.8.8"
  }
 },
 "nbformat": 4,
 "nbformat_minor": 5
}
